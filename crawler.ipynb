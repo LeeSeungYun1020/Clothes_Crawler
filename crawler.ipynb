{
 "cells": [
  {
   "cell_type": "code",
   "execution_count": 7,
   "metadata": {
    "collapsed": true
   },
   "outputs": [
    {
     "name": "stdout",
     "output_type": "stream",
     "text": [
      "<html>\n",
      " <header>\n",
      "  <title>\n",
      "   Error\n",
      "  </title>\n",
      " </header>\n",
      " <body>\n",
      "  <h2>\n",
      "   Error\n",
      "  </h2>\n",
      "  <table bgcolor=\"#FEEE7A\" border=\"0\" cellpadding=\"0\" cellspacing=\"0\" width=\"400\">\n",
      "   <tr>\n",
      "    <td>\n",
      "     <table border=\"0\" cellpadding=\"3\" cellspacing=\"1\">\n",
      "      <tr align=\"Left\" bgcolor=\"#FBFFDF\" valign=\"top\">\n",
      "       <td>\n",
      "        <strong>\n",
      "         Error\n",
      "        </strong>\n",
      "       </td>\n",
      "      </tr>\n",
      "      <tr bgcolor=\"#FFFFFF\" valign=\"top\">\n",
      "       <td>\n",
      "        This page can't be displayed. Contact support for additional information.\n",
      "        <br/>\n",
      "        The incident ID is: 6904357200565362798.\n",
      "       </td>\n",
      "      </tr>\n",
      "     </table>\n",
      "    </td>\n",
      "   </tr>\n",
      "  </table>\n",
      " </body>\n",
      "</html>\n"
     ]
    }
   ],
   "source": [
    "import requests\n",
    "from bs4 import BeautifulSoup\n",
    "\n",
    "url = \"http://danawa.co.kr\"\n",
    "\n",
    "response = requests.get(url)\n",
    "\n",
    "if response.status_code == 200:\n",
    "    html = response.text\n",
    "    soup = BeautifulSoup(html, 'html.parser')\n",
    "    print(soup.prettify())\n",
    "\n",
    "else :\n",
    "    print(response.status_code)"
   ]
  },
  {
   "cell_type": "code",
   "execution_count": 9,
   "outputs": [],
   "source": [
    "import time\n",
    "from selenium.webdriver import Chrome\n",
    "from selenium.webdriver import ChromeOptions\n",
    "\n",
    "from bs4 import BeautifulSoup\n",
    "\n",
    "browser = Chrome(r\"C:\\Users\\fabi8\\Downloads\\chromedriver_win32/chromedriver.exe\")\n",
    "url = \"http://www.google.com\"\n",
    "browser.get(url)"
   ],
   "metadata": {
    "collapsed": false,
    "pycharm": {
     "name": "#%%\n"
    }
   }
  }
 ],
 "metadata": {
  "kernelspec": {
   "name": "pycharm-e791103c",
   "language": "python",
   "display_name": "PyCharm (clothes_crawler)"
  },
  "language_info": {
   "codemirror_mode": {
    "name": "ipython",
    "version": 2
   },
   "file_extension": ".py",
   "mimetype": "text/x-python",
   "name": "python",
   "nbconvert_exporter": "python",
   "pygments_lexer": "ipython2",
   "version": "2.7.6"
  }
 },
 "nbformat": 4,
 "nbformat_minor": 0
}